{
 "metadata": {
  "name": ""
 },
 "nbformat": 3,
 "nbformat_minor": 0,
 "worksheets": [
  {
   "cells": [
    {
     "cell_type": "code",
     "collapsed": false,
     "input": [
      "#!/usr/bin/env python"
     ],
     "language": "python",
     "metadata": {},
     "outputs": [],
     "prompt_number": 4
    },
    {
     "cell_type": "code",
     "collapsed": false,
     "input": [
      "import pandas as pd\n",
      "import numpy as np\n",
      "import matplotlib.pyplot as plt\n",
      "import glob\n",
      "from datetime import datetime\n",
      "import pylab\n",
      "import os\n",
      "\n",
      "for filename in glob.glob(os.path.join('./fluxes_*')):\n",
      "    latlong=filename[9:]\n",
      "#    with open(filename) as f:\n",
      "    a=np.loadtxt(filename, delimiter='\\t')\n",
      "    precip_header=['year', 'month', 'day', 'daily_precip', \\\n",
      "               'unk1', 'unk2', 'unk3', 'unk4', 'unk5', 'unk6', 'unk7', 'unk8']\n",
      "    precip_start = datetime(1990, 1, 1)\n",
      "    precip_end = datetime(2012, 12, 17)\n",
      "    precip_dates = pd.date_range(start = precip_start, end=precip_end, freq='D')\n",
      "    precip_df = pd.DataFrame(a, \n",
      "                         index=precip_dates,  \n",
      "                         columns = precip_header)\n",
      "    \n",
      "# drop the unused columns\n",
      "    precip_df = precip_df.drop('year', axis=1).drop('month', axis=1).drop('day', axis=1).\\\n",
      "    drop('unk1', axis=1).drop('unk2', axis=1).drop('unk3', axis=1).drop('unk4', axis=1)\\\n",
      "    .drop('unk5', axis=1).drop('unk6', axis=1).drop('unk7', axis=1).drop('unk8', axis=1)\n",
      "#    print a\n",
      "#    print latlong\n",
      "    precip_monthlysum = precip_df.groupby([precip_df.index.year, precip_df.index.month]).sum()\n",
      "#    print precip_monthlysum\n",
      "    avgmonthsum=precip_monthlysum.groupby(level=1).mean()\n",
      "#    print avgmonthsum\n",
      "    np.savetxt('./monthlysum_'+latlong, avgmonthsum)\n",
      "#    print 'File monthlysum_'+latlong+' saved to current working directory'\n",
      "    \n",
      "#        a=f.read()\n",
      "#precip_files=glob.iglob(\"./ fluxes_*\")\n",
      "#for data_file in precip_files:\n",
      "#    data=pylab.loadtxt(data_file)\n",
      "#a=np.loadtxt('/usr1/oriana/computing_workshops/exercise2/data/fluxes_13.7500_-0.2500', delimiter='\\t')\n",
      "#data"
     ],
     "language": "python",
     "metadata": {},
     "outputs": [],
     "prompt_number": 11
    },
    {
     "cell_type": "code",
     "collapsed": false,
     "input": [
      "#from extract_values import extract_values\n",
      "sumfactors=0\n",
      "cumulativeavgs=[0]*12\n",
      "for filename in glob.glob(os.path.join('./monthlysum_*')):\n",
      "    latlong=filename[13:]\n",
      "    latlonglist=latlong.split('_')\n",
      "    latitude=float(latlonglist[0])\n",
      "    longitude=float(latlonglist[1])\n",
      "    #print latitude\n",
      "    #print longitude\n",
      "    #print latlonglist\n",
      "    factor=sin((90-latitude)*pi/180)\n",
      "    #print factor\n",
      "    sumfactors+=factor\n",
      "    #print sumfactors\n",
      "    monthlyavgs=np.loadtxt(filename, delimiter='\\t')\n",
      "    #monthlyavgs_df=pd.DataFrame(monthlyavgs)\n",
      "    monthlyavgs*=factor\n",
      "    #print monthlyavgs[0]\n",
      "    cumulativeavgs+=monthlyavgs\n",
      "    #print monthlyavgs\n",
      "    #print cumulativeavgs\n",
      "#print sumfactors\n",
      "#print cumulativeavgs\n",
      "cumulativeavgs*=1/sumfactors\n",
      "#print cumulativeavgs\n",
      "np.savetxt('Area-weighted precip', cumulativeavgs)\n",
      "print 'Done! Output written to file named Area-weighted precip in your current working directory!'"
     ],
     "language": "python",
     "metadata": {},
     "outputs": [
      {
       "output_type": "stream",
       "stream": "stdout",
       "text": [
        "Done! Output written to file named Area-weighted precip in your current working directory!\n"
       ]
      }
     ],
     "prompt_number": 12
    }
   ],
   "metadata": {}
  }
 ]
}